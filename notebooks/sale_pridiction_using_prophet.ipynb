{
 "cells": [
  {
   "cell_type": "code",
   "execution_count": 1,
   "metadata": {},
   "outputs": [],
   "source": [
    "import warnings\n",
    "warnings.filterwarnings(\"ignore\")\n",
    "import numpy as np\n",
    "import pandas as pd\n",
    "from pandas import datetime\n",
    "import matplotlib.pyplot as plt\n",
    "import seaborn as sns # advanced vizs\n",
    "%matplotlib inline\n",
    "from statsmodels.distributions.empirical_distribution import ECDF\n",
    "from statsmodels.tsa.seasonal import seasonal_decompose\n",
    "from statsmodels.graphics.tsaplots import plot_acf, plot_pacf\n",
    "from prophet import Prophet\n",
    "import logging\n",
    "\n",
    "sys.path.insert(0,'../scripts/')\n",
    "from log_helper import Logger_Class\n",
    "import io\n",
    "import dvc.api\n",
    "\n",
    "\n",
    "\n"
   ]
  },
  {
   "cell_type": "code",
   "execution_count": 2,
   "metadata": {},
   "outputs": [],
   "source": [
    "# repo = 'https://github.com/nahomHmichael/Rossman-Pharmaceutical-Sales-Pridiction'\n",
    "# rev = 'bc0981'\n",
    "# path='data/train_store_data.csv'\n",
    "# data_train =  dvc.api.get_url(path=path,repo=repo,rev=rev)\n",
    "# train = pd.read_csv(io.StringIO(data_train),low_memory=False)"
   ]
  },
  {
   "cell_type": "code",
   "execution_count": 4,
   "metadata": {},
   "outputs": [],
   "source": [
    "train = pd.read_csv('../data/train.csv',parse_dates=True, low_memory=False,index_col='Date')\n",
    "test = pd.read_csv('../data/test.csv',parse_dates=True, low_memory=False, index_col='Date')\n",
    "store = pd.read_csv('../data/store.csv',low_memory=False)"
   ]
  },
  {
   "cell_type": "code",
   "execution_count": 7,
   "metadata": {},
   "outputs": [
    {
     "data": {
      "text/plain": [
       "(1115, 10)"
      ]
     },
     "execution_count": 7,
     "metadata": {},
     "output_type": "execute_result"
    }
   ],
   "source": [
    "store.shape"
   ]
  },
  {
   "cell_type": "code",
   "execution_count": null,
   "metadata": {},
   "outputs": [],
   "source": []
  },
  {
   "cell_type": "code",
   "execution_count": null,
   "metadata": {},
   "outputs": [],
   "source": []
  },
  {
   "cell_type": "code",
   "execution_count": null,
   "metadata": {},
   "outputs": [],
   "source": []
  },
  {
   "cell_type": "code",
   "execution_count": null,
   "metadata": {},
   "outputs": [],
   "source": []
  },
  {
   "cell_type": "code",
   "execution_count": 3,
   "metadata": {},
   "outputs": [
    {
     "data": {
      "text/plain": [
       "DatetimeIndex(['2015-07-31', '2015-07-31', '2015-07-31', '2015-07-31',\n",
       "               '2015-07-31', '2015-07-31', '2015-07-31', '2015-07-31',\n",
       "               '2015-07-31', '2015-07-31',\n",
       "               ...\n",
       "               '2013-01-01', '2013-01-01', '2013-01-01', '2013-01-01',\n",
       "               '2013-01-01', '2013-01-01', '2013-01-01', '2013-01-01',\n",
       "               '2013-01-01', '2013-01-01'],\n",
       "              dtype='datetime64[ns]', name='Date', length=1017209, freq=None)"
      ]
     },
     "execution_count": 3,
     "metadata": {},
     "output_type": "execute_result"
    }
   ],
   "source": [
    "# # importing train data to learn\n",
    "# train = pd.read_csv(\"../data/train.csv\", \n",
    "#                     parse_dates = True, low_memory = False, index_col = 'Date')\n",
    "# store = pd.read_csv(\"../data/store.csv\", \n",
    "#                     low_memory = False)\n",
    "# test = pd.read_csv('../data/test.csv',parse_dates=True, low_memort = False )"
   ]
  },
  {
   "cell_type": "code",
   "execution_count": 4,
   "metadata": {},
   "outputs": [
    {
     "name": "stdout",
     "output_type": "stream",
     "text": [
      "In total:  (1017209, 8)\n"
     ]
    },
    {
     "data": {
      "text/html": [
       "<div>\n",
       "<style scoped>\n",
       "    .dataframe tbody tr th:only-of-type {\n",
       "        vertical-align: middle;\n",
       "    }\n",
       "\n",
       "    .dataframe tbody tr th {\n",
       "        vertical-align: top;\n",
       "    }\n",
       "\n",
       "    .dataframe thead th {\n",
       "        text-align: right;\n",
       "    }\n",
       "</style>\n",
       "<table border=\"1\" class=\"dataframe\">\n",
       "  <thead>\n",
       "    <tr style=\"text-align: right;\">\n",
       "      <th></th>\n",
       "      <th>Store</th>\n",
       "      <th>DayOfWeek</th>\n",
       "      <th>Sales</th>\n",
       "      <th>Customers</th>\n",
       "      <th>Open</th>\n",
       "      <th>Promo</th>\n",
       "      <th>StateHoliday</th>\n",
       "      <th>SchoolHoliday</th>\n",
       "    </tr>\n",
       "    <tr>\n",
       "      <th>Date</th>\n",
       "      <th></th>\n",
       "      <th></th>\n",
       "      <th></th>\n",
       "      <th></th>\n",
       "      <th></th>\n",
       "      <th></th>\n",
       "      <th></th>\n",
       "      <th></th>\n",
       "    </tr>\n",
       "  </thead>\n",
       "  <tbody>\n",
       "    <tr>\n",
       "      <th>2015-07-31</th>\n",
       "      <td>1</td>\n",
       "      <td>5</td>\n",
       "      <td>5263</td>\n",
       "      <td>555</td>\n",
       "      <td>1</td>\n",
       "      <td>1</td>\n",
       "      <td>0</td>\n",
       "      <td>1</td>\n",
       "    </tr>\n",
       "    <tr>\n",
       "      <th>2015-07-31</th>\n",
       "      <td>2</td>\n",
       "      <td>5</td>\n",
       "      <td>6064</td>\n",
       "      <td>625</td>\n",
       "      <td>1</td>\n",
       "      <td>1</td>\n",
       "      <td>0</td>\n",
       "      <td>1</td>\n",
       "    </tr>\n",
       "    <tr>\n",
       "      <th>2015-07-31</th>\n",
       "      <td>3</td>\n",
       "      <td>5</td>\n",
       "      <td>8314</td>\n",
       "      <td>821</td>\n",
       "      <td>1</td>\n",
       "      <td>1</td>\n",
       "      <td>0</td>\n",
       "      <td>1</td>\n",
       "    </tr>\n",
       "    <tr>\n",
       "      <th>2015-07-31</th>\n",
       "      <td>4</td>\n",
       "      <td>5</td>\n",
       "      <td>13995</td>\n",
       "      <td>1498</td>\n",
       "      <td>1</td>\n",
       "      <td>1</td>\n",
       "      <td>0</td>\n",
       "      <td>1</td>\n",
       "    </tr>\n",
       "    <tr>\n",
       "      <th>2015-07-31</th>\n",
       "      <td>5</td>\n",
       "      <td>5</td>\n",
       "      <td>4822</td>\n",
       "      <td>559</td>\n",
       "      <td>1</td>\n",
       "      <td>1</td>\n",
       "      <td>0</td>\n",
       "      <td>1</td>\n",
       "    </tr>\n",
       "  </tbody>\n",
       "</table>\n",
       "</div>"
      ],
      "text/plain": [
       "            Store  DayOfWeek  Sales  Customers  Open  Promo StateHoliday  \\\n",
       "Date                                                                       \n",
       "2015-07-31      1          5   5263        555     1      1            0   \n",
       "2015-07-31      2          5   6064        625     1      1            0   \n",
       "2015-07-31      3          5   8314        821     1      1            0   \n",
       "2015-07-31      4          5  13995       1498     1      1            0   \n",
       "2015-07-31      5          5   4822        559     1      1            0   \n",
       "\n",
       "            SchoolHoliday  \n",
       "Date                       \n",
       "2015-07-31              1  \n",
       "2015-07-31              1  \n",
       "2015-07-31              1  \n",
       "2015-07-31              1  \n",
       "2015-07-31              1  "
      ]
     },
     "execution_count": 4,
     "metadata": {},
     "output_type": "execute_result"
    }
   ],
   "source": [
    "# print(\"In total: \", train.shape)\n",
    "# train.head(5)"
   ]
  },
  {
   "cell_type": "code",
   "execution_count": 5,
   "metadata": {},
   "outputs": [
    {
     "data": {
      "text/plain": [
       "count    844340.000000\n",
       "mean          9.493619\n",
       "std           2.197494\n",
       "min           0.000000\n",
       "25%           7.895563\n",
       "50%           9.250000\n",
       "75%          10.899729\n",
       "max          64.957854\n",
       "Name: SalePerCustomer, dtype: float64"
      ]
     },
     "execution_count": 5,
     "metadata": {},
     "output_type": "execute_result"
    }
   ],
   "source": [
    "# # data extraction\n",
    "# train['Year'] = train.index.year\n",
    "# train['Month'] = train.index.month\n",
    "# train['Day'] = train.index.day\n",
    "# train['WeekOfYear'] = train.index.weekofyear\n",
    "\n",
    "# # adding new variable\n",
    "# train['SalePerCustomer'] = train['Sales']/train['Customers']\n",
    "# train['SalePerCustomer'].describe()"
   ]
  },
  {
   "cell_type": "code",
   "execution_count": null,
   "metadata": {},
   "outputs": [],
   "source": [
    "# sns.set(style = \"ticks\")# to format into seaborn \n",
    "# c = '#386B7F' # basic color for plots\n",
    "# plt.figure(figsize = (12, 6))\n",
    "\n",
    "# plt.subplot(311)\n",
    "# cdf = ECDF(train['Sales'])\n",
    "# plt.plot(cdf.x, cdf.y, label = \"statmodels\", color = c);\n",
    "# plt.xlabel('Sales'); plt.ylabel('ECDF');\n",
    "\n",
    "# # plot second ECDF  \n",
    "# plt.subplot(312)\n",
    "# cdf = ECDF(train['Customers'])\n",
    "# plt.plot(cdf.x, cdf.y, label = \"statmodels\", color = c);\n",
    "# plt.xlabel('Customers');\n",
    "\n",
    "# # plot second ECDF  \n",
    "# plt.subplot(313)\n",
    "# cdf = ECDF(train['SalePerCustomer'])\n",
    "# plt.plot(cdf.x, cdf.y, label = \"statmodels\", color = c);\n",
    "# plt.xlabel('Sale per Customer');"
   ]
  }
 ],
 "metadata": {
  "kernelspec": {
   "display_name": "main_env",
   "language": "python",
   "name": "main_env"
  },
  "language_info": {
   "codemirror_mode": {
    "name": "ipython",
    "version": 3
   },
   "file_extension": ".py",
   "mimetype": "text/x-python",
   "name": "python",
   "nbconvert_exporter": "python",
   "pygments_lexer": "ipython3",
   "version": "3.10.4"
  },
  "orig_nbformat": 4,
  "vscode": {
   "interpreter": {
    "hash": "aacb89259a28c7c0780e97aa12a84378fc1fb61573d9a41964a2d270e5267b91"
   }
  }
 },
 "nbformat": 4,
 "nbformat_minor": 2
}
